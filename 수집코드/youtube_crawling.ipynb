{
 "cells": [
  {
   "attachments": {},
   "cell_type": "markdown",
   "metadata": {},
   "source": [
    "# 데이터 수집"
   ]
  },
  {
   "attachments": {},
   "cell_type": "markdown",
   "metadata": {},
   "source": [
    "## Selenium을 이용하여 유투브 크롤링"
   ]
  },
  {
   "cell_type": "code",
   "execution_count": 2,
   "metadata": {},
   "outputs": [],
   "source": [
    "# 필요한 모듈 불러오기\n",
    "import sys\n",
    "from selenium import webdriver as wd\n",
    "import time\n",
    "import random\n",
    "import pandas as pd\n",
    "import urllib"
   ]
  },
  {
   "cell_type": "code",
   "execution_count": 3,
   "metadata": {},
   "outputs": [],
   "source": [
    "# 크롬창 구동\n",
    "driver = wd.Chrome('C://Users//USER//Desktop//Py_Projects//selenium_level4//chromedriver.exe')"
   ]
  },
  {
   "cell_type": "code",
   "execution_count": 4,
   "metadata": {},
   "outputs": [],
   "source": [
    "# 유투브 뉴스 링크 리스트\n",
    "target_site_url = \"https://www.youtube.com/watch?v=\"\n",
    "target_site_list = [\n",
    "    '4AxqBCCYp5M',\n",
    "    'HQp7a6yilWY',\n",
    "    'ezp4SOc5EHI',\n",
    "    'caVZjpYblD8',\n",
    "    'ETDuZDspP6k',\n",
    "    'o1tIFgluBl0',\n",
    "    'p88ameaaPa8',\n",
    "    '1Mb7iaBuMCY',\n",
    "    'XF2W7JmmS9g'\n",
    "]"
   ]
  },
  {
   "cell_type": "code",
   "execution_count": null,
   "metadata": {},
   "outputs": [],
   "source": [
    "# 데이터 수집\n",
    "driver_list = []\n",
    "youtube_news_infos = []\n",
    "for target_site in target_site_list :\n",
    "    target_site_url_2 = target_site_url + target_site\n",
    "    print(target_site_url_2)\n",
    "    # 창 열기\n",
    "    driver.get(target_site_url_2)\n",
    "    time.sleep(5)\n",
    "\n",
    "    # 유투브 팝업 닫기 (프리미엄 광고창)\n",
    "    try:\n",
    "        driver.find_element_by_css_selector(\"#dismiss-button > a\").click()\n",
    "    except:\n",
    "        pass\n",
    "    time.sleep(2)\n",
    "\n",
    "    # 웹 페이지 스크롤\n",
    "    for n in range(100):\n",
    "        driver.execute_script('''\n",
    "        // 자바스크립트 작성\n",
    "        window.scrollBy(0, 500)\n",
    "    ''')\n",
    "        time.sleep(2)\n",
    "\n",
    "    comment_list = driver.find_elements_by_css_selector(\"ytd-comment-thread-renderer\") \n",
    "    print(comment_list)\n",
    "\n",
    "    for comment in comment_list:\n",
    "        # 댓글 내용\n",
    "        temp_comment = comment.find_element_by_id('content-text').text\n",
    "        temp_comment = temp_comment.replace('\\n', '')\n",
    "        temp_comment = temp_comment.replace('\\t', '')\n",
    "        temp_comment = temp_comment.replace('    ', '')\n",
    "        print(temp_comment)\n",
    "\n",
    "        # 날짜\n",
    "        date = comment.find_element_by_css_selector('#header-author > yt-formatted-string > a').text\n",
    "        print(date)\n",
    "\n",
    "        # 좋아요 수\n",
    "        like = comment.find_element_by_id('vote-count-middle').text\n",
    "        print(like)\n",
    "\n",
    "        # 댓글내용, 좋아요수, 날짜\n",
    "        youtube_news_infos.append({   \n",
    "            \"댓글내용\" : temp_comment,\n",
    "            \"좋아요수\" : like,\n",
    "            \"날짜\" : date,\n",
    "        })\n",
    "\n"
   ]
  },
  {
   "cell_type": "code",
   "execution_count": 7,
   "metadata": {},
   "outputs": [],
   "source": [
    "# 브라우저 닫기\n",
    "driver.close()\n",
    "driver.quit()"
   ]
  },
  {
   "cell_type": "code",
   "execution_count": 6,
   "metadata": {},
   "outputs": [],
   "source": [
    "# excel에 저장\n",
    "df = pd.DataFrame.from_dict(youtube_news_infos)\n",
    "# df.to_csv('youtube_news_infos.csv', index=False)\n",
    "df.to_excel('물가상승_youtube_news_infos.xlsx', index=False)"
   ]
  }
 ],
 "metadata": {
  "kernelspec": {
   "display_name": "base",
   "language": "python",
   "name": "python3"
  },
  "language_info": {
   "codemirror_mode": {
    "name": "ipython",
    "version": 3
   },
   "file_extension": ".py",
   "mimetype": "text/x-python",
   "name": "python",
   "nbconvert_exporter": "python",
   "pygments_lexer": "ipython3",
   "version": "3.9.13"
  },
  "orig_nbformat": 4,
  "vscode": {
   "interpreter": {
    "hash": "263930470851f494f0ed2879c35b57985588df20f9e529b86e97dd5eb9ddc466"
   }
  }
 },
 "nbformat": 4,
 "nbformat_minor": 2
}
